{
 "cells": [
  {
   "cell_type": "markdown",
   "id": "ecc04127",
   "metadata": {},
   "source": [
    "# Assignment Module 2"
   ]
  },
  {
   "cell_type": "code",
   "execution_count": 5,
   "id": "7b7acf49",
   "metadata": {},
   "outputs": [
    {
     "name": "stdout",
     "output_type": "stream",
     "text": [
      "enter a Number: 10\n",
      "10.0  is Positive\n"
     ]
    }
   ],
   "source": [
    "# Q1\n",
    "\n",
    "num = float(input(\"enter a Number: \"))\n",
    "if num > 0:\n",
    "    print(num, \" is Positive\")\n",
    "elif num == 0:\n",
    "    print(\"Zero\")\n",
    "else :\n",
    "    print(\" is Negative\")"
   ]
  },
  {
   "cell_type": "code",
   "execution_count": 11,
   "id": "aec750a6",
   "metadata": {},
   "outputs": [
    {
     "name": "stdout",
     "output_type": "stream",
     "text": [
      "Enter a number: 5\n",
      "Factorail of  5  is :  120\n"
     ]
    }
   ],
   "source": [
    "# Q2\n",
    "\n",
    "n = input(\"Enter a number: \")\n",
    "factorial = 1\n",
    "if int(n) >= 1:\n",
    " for i in range (1,int(n)+1):\n",
    "   factorial = factorial * i\n",
    " print(\"Factorail of \",n , \" is : \",factorial)"
   ]
  },
  {
   "cell_type": "code",
   "execution_count": 12,
   "id": "67f0a062",
   "metadata": {},
   "outputs": [
    {
     "name": "stdout",
     "output_type": "stream",
     "text": [
      "The factorial of 7 is 5040\n"
     ]
    }
   ],
   "source": [
    "# Q2\n",
    "\n",
    "# Python program to find the factorial of a number provided by the user.\n",
    "\n",
    "# change the value for a different result\n",
    "num = 7\n",
    "\n",
    "# To take input from the user\n",
    "#num = int(input(\"Enter a number: \"))\n",
    "\n",
    "factorial = 1\n",
    "\n",
    "# check if the number is negative, positive or zero\n",
    "if num < 0:\n",
    "   print(\"Sorry, factorial does not exist for negative numbers\")\n",
    "elif num == 0:\n",
    "   print(\"The factorial of 0 is 1\")\n",
    "else:\n",
    "   for i in range(1,num + 1):\n",
    "       factorial = factorial*i\n",
    "   print(\"The factorial of\",num,\"is\",factorial)"
   ]
  },
  {
   "cell_type": "code",
   "execution_count": 2,
   "id": "10048cf7",
   "metadata": {},
   "outputs": [
    {
     "name": "stdout",
     "output_type": "stream",
     "text": [
      "How many terms? 5\n",
      "Fibonacci sequence:\n",
      "0\n",
      "1\n",
      "1\n",
      "2\n",
      "3\n"
     ]
    }
   ],
   "source": [
    "# Q3\n",
    "\n",
    "# Program to display the Fibonacci sequence up to n-th term\n",
    "\n",
    "nterms = int(input(\"How many terms? \"))\n",
    "\n",
    "# first two terms\n",
    "n1, n2 = 0, 1\n",
    "count = 0\n",
    "\n",
    "# check if the number of terms is valid\n",
    "if nterms <= 0:\n",
    "   print(\"Please enter a positive integer\")\n",
    "# if there is only one term, return n1\n",
    "elif nterms == 1:\n",
    "   print(\"Fibonacci sequence upto\",nterms,\":\")\n",
    "   print(n1)\n",
    "# generate fibonacci sequence\n",
    "else:\n",
    "   print(\"Fibonacci sequence:\")\n",
    "   while count < nterms:\n",
    "       print(n1)\n",
    "       nth = n1 + n2\n",
    "       # update values\n",
    "       n1 = n2\n",
    "       n2 = nth\n",
    "       count += 1"
   ]
  },
  {
   "cell_type": "code",
   "execution_count": null,
   "id": "1ab2a58e",
   "metadata": {},
   "outputs": [],
   "source": [
    "# Q3 = How memory is managed in Python?\n",
    "\n",
    "'''Memory management in Python involves a private heap containing all Python objects and data structures.\n",
    "The management of this private heap is ensured internally by the Python memory manager.\n",
    "\n",
    "    Memory Management in Lists and Tuples\n",
    "    1. Both are sequence data types.\n",
    "    2. Each item stored in a list can be of any data type.\n",
    "    3. Elements can be accessed by indexing and slicing.\n",
    "    4. Both allow duplicates. Let's see how they are different with examples.\n",
    "'''"
   ]
  },
  {
   "cell_type": "code",
   "execution_count": null,
   "id": "10fbc586",
   "metadata": {},
   "outputs": [],
   "source": [
    "#  Q4\n",
    "# What is the purpose continue statement in python?\n",
    "\n",
    "'''\n",
    "The continue statement passes control to the next iteration of the nearest enclosing do, for, or while statement \n",
    "in which it appears, bypassing any remaining statements in the do , for , or while statement body.\n",
    "'''"
   ]
  },
  {
   "cell_type": "code",
   "execution_count": 2,
   "id": "eb562ec3",
   "metadata": {},
   "outputs": [
    {
     "name": "stdout",
     "output_type": "stream",
     "text": [
      "Enter value of x: 50\n",
      "Enter value of y: 4\n",
      "The value of x after swapping: 50\n",
      "The value of y after swapping: 4\n"
     ]
    }
   ],
   "source": [
    "# Q5\n",
    "\n",
    "# Python program to swap two variables\n",
    "\n",
    "# To take inputs from the user\n",
    "x = input('Enter value of x: ')\n",
    "y = input('Enter value of y: ')\n",
    "\n",
    "print('The value of x after swapping: {}'.format(x))\n",
    "print('The value of y after swapping: {}'.format(y))\n",
    "\n",
    "# Python program to swap two variables\n",
    "\n",
    "x = 5\n",
    "y = 10\n",
    "\n",
    "# To take inputs from the user\n",
    "#x = input('Enter value of x: ')\n",
    "#y = input('Enter value of y: ')\n",
    "\n",
    "# create a temporary variable and swap the values\n",
    "#temp = x\n",
    "#x = y\n",
    "#y = temp\n",
    "\n",
    "print('The value of x after swapping: {}'.format(x))\n",
    "print('The value of y after swapping: {}'.format(y))"
   ]
  },
  {
   "cell_type": "code",
   "execution_count": 2,
   "id": "36ecc1f2",
   "metadata": {},
   "outputs": [
    {
     "name": "stdout",
     "output_type": "stream",
     "text": [
      "Enter a number: 11\n",
      "11 is Odd\n"
     ]
    }
   ],
   "source": [
    "# Q6 \n",
    "\n",
    "# Python program to check if the input number is odd or even.\n",
    "# A number is even if division by 2 gives a remainder of 0.\n",
    "# If the remainder is 1, it is an odd number.\n",
    "\n",
    "num = int(input(\"Enter a number: \"))\n",
    "if (num % 2) == 0:\n",
    "   print(\"{0} is Even\".format(num))\n",
    "else:\n",
    "   print(\"{0} is Odd\".format(num))"
   ]
  },
  {
   "cell_type": "code",
   "execution_count": 8,
   "id": "d5bdbd01",
   "metadata": {},
   "outputs": [
    {
     "name": "stdout",
     "output_type": "stream",
     "text": [
      "It is a vowel\n",
      "it is not vowel\n"
     ]
    }
   ],
   "source": [
    "# Q7 \n",
    "\n",
    "def fun(str):\n",
    "    vowel = ['a', 'e', 'i', 'o', 'u', 'A', 'E', 'I', 'O', 'U']\n",
    "\n",
    "    if str in vowel:\n",
    "\n",
    "        print (\"It is a vowel\")\n",
    "    else:\n",
    "        print (\"it is not vowel\")\n",
    "\n",
    "fun('a')\n",
    "fun('r')"
   ]
  },
  {
   "cell_type": "code",
   "execution_count": 10,
   "id": "9f859c24",
   "metadata": {},
   "outputs": [
    {
     "name": "stdout",
     "output_type": "stream",
     "text": [
      "0\n",
      "0\n",
      "0\n",
      "6\n"
     ]
    }
   ],
   "source": [
    "# Q8 \n",
    "\n",
    "def sum(x, y, z):\n",
    "    if x == y or y == z or x==z:\n",
    "        sum = 0\n",
    "    else:\n",
    "        sum = x + y + z\n",
    "    return sum\n",
    "\n",
    "print(sum(2, 1, 1))\n",
    "print(sum(3, 2, 2))\n",
    "print(sum(2, 2, 2))\n",
    "print(sum(1, 2, 3))"
   ]
  },
  {
   "cell_type": "code",
   "execution_count": 17,
   "id": "50768f5d",
   "metadata": {},
   "outputs": [
    {
     "name": "stdout",
     "output_type": "stream",
     "text": [
      "True\n",
      "True\n",
      "True\n"
     ]
    }
   ],
   "source": [
    "# Q9 = Write a Python program that will return true if the two given integer values are equal or their sum or difference is 5.\n",
    "\n",
    "def test_number5(x, y):\n",
    "    if x == y or abs(x-y) == 5 or (x+y) == 5:\n",
    "        return True\n",
    "    else:\n",
    "        return False\n",
    "\n",
    "print(test_number5(7, 2))\n",
    "print(test_number5(3, 2))\n",
    "print(test_number5(2, 2))"
   ]
  },
  {
   "cell_type": "code",
   "execution_count": 19,
   "id": "fc06f72c",
   "metadata": {},
   "outputs": [
    {
     "name": "stdout",
     "output_type": "stream",
     "text": [
      "Input a number: 2\n",
      "Sum of the first 2 positive integers: 3.0\n"
     ]
    }
   ],
   "source": [
    "# Q10 = Write a python program to sum of the first n positive integers.\n",
    "\n",
    "n = int(input(\"Input a number: \"))\n",
    "sum_num = (n * (n + 1)) / 2\n",
    "print(\"Sum of the first\", n ,\"positive integers:\", sum_num)"
   ]
  },
  {
   "cell_type": "code",
   "execution_count": 20,
   "id": "32dc28af",
   "metadata": {},
   "outputs": [
    {
     "name": "stdout",
     "output_type": "stream",
     "text": [
      "Enter a string: Abhishek\n",
      "Length of the input string is: 8\n"
     ]
    }
   ],
   "source": [
    "# Q11 = Write a Python program to calculate the length of a string.\n",
    "\n",
    "# User inputs the string and it gets stored in variable str\n",
    "str = input(\"Enter a string: \")\n",
    "\n",
    "# counter variable to count the character in a string\n",
    "counter = 0\n",
    "for s in str:\n",
    "      counter = counter+1\n",
    "print(\"Length of the input string is:\", counter)"
   ]
  },
  {
   "cell_type": "code",
   "execution_count": 21,
   "id": "936a5b75",
   "metadata": {},
   "outputs": [
    {
     "name": "stdout",
     "output_type": "stream",
     "text": [
      "{'g': 2, 'o': 3, 'l': 1, 'e': 1, '.': 1, 'c': 1, 'm': 1}\n"
     ]
    }
   ],
   "source": [
    "# Q12 = Write a Python program to count the number of characters (characterfrequency) in a string\n",
    "\n",
    "def char_frequency(str1):\n",
    "    dict = {}\n",
    "    for n in str1:\n",
    "        keys = dict.keys()\n",
    "        if n in keys:\n",
    "            dict[n] += 1\n",
    "        else:\n",
    "            dict[n] = 1\n",
    "    return dict\n",
    "print(char_frequency('google.com'))"
   ]
  },
  {
   "cell_type": "code",
   "execution_count": null,
   "id": "0121b4f7",
   "metadata": {},
   "outputs": [],
   "source": [
    "# Q13 = What are negative indexes and why are they used?\n",
    "\n",
    "'''\n",
    "As we know, indexes are used in arrays in all the programming languages. We can access the elements of an array by \n",
    "going through their indexes. But no programming language allows us to use a negative index value such as -4. Python \n",
    "programming language supports negative indexing of arrays, something which is not available in arrays in most other \n",
    "programming languages. This means that the index value of -1 gives the last element, and -2 gives the second last \n",
    "element of an array. The negative indexing starts from where the array ends. This means that the last element of \n",
    "the array is the first element in the negative indexing which is -1.\n",
    "\n",
    "Example:\n",
    "arr = [10, 20, 30, 40, 50]\n",
    "print (arr[-1])\n",
    "print (arr[-2])\n",
    "\n",
    "Output:\n",
    "50\n",
    "40\n",
    "'''"
   ]
  },
  {
   "cell_type": "code",
   "execution_count": 22,
   "id": "34286fae",
   "metadata": {},
   "outputs": [
    {
     "name": "stdout",
     "output_type": "stream",
     "text": [
      "\n",
      "1\n",
      "\n"
     ]
    }
   ],
   "source": [
    "# Q14 = Write a Python program to count occurrences of a substring in a string.\n",
    "\n",
    "str1 = 'The quick brown fox jumps over the lazy dog.'\n",
    "print()\n",
    "print(str1.count(\"fox\"))\n",
    "print()"
   ]
  },
  {
   "cell_type": "code",
   "execution_count": 24,
   "id": "f0639454",
   "metadata": {},
   "outputs": [
    {
     "name": "stdout",
     "output_type": "stream",
     "text": [
      "Number of occurrences found in the string:\n",
      "2\n"
     ]
    }
   ],
   "source": [
    "# Q15 = Write a Python program to count the occurrences of each word in a given sentence\n",
    "\n",
    "string=\"This is a sample Python program, Welcome to World Of Python Programming!\"\n",
    "word=\"Python\"\n",
    "list=[]\n",
    "wordCount=0\n",
    "list=string.split(\" \")\n",
    "for i in range(0,len(list)):\n",
    "      if(word==list[i]):\n",
    "            wordCount=wordCount+1\n",
    "print(\"Number of occurrences found in the string:\")\n",
    "print(wordCount)"
   ]
  },
  {
   "cell_type": "code",
   "execution_count": 25,
   "id": "bd2f27ab",
   "metadata": {},
   "outputs": [
    {
     "name": "stdout",
     "output_type": "stream",
     "text": [
      "xyc abz\n"
     ]
    }
   ],
   "source": [
    "# Q16 = Write a Python program to get a single string from two given strings, separated by a space and swap the first two characters of each string.\n",
    "\n",
    "def chars_mix_up(a, b):\n",
    "  new_a = b[:2] + a[2:]\n",
    "  new_b = a[:2] + b[2:]\n",
    "\n",
    "  return new_a + ' ' + new_b\n",
    "print(chars_mix_up('abc', 'xyz'))"
   ]
  },
  {
   "cell_type": "code",
   "execution_count": 26,
   "id": "4f8db4f2",
   "metadata": {},
   "outputs": [
    {
     "name": "stdout",
     "output_type": "stream",
     "text": [
      "ab\n",
      "abcing\n",
      "stringly\n"
     ]
    }
   ],
   "source": [
    "# Q17 = Write a Python program to add 'ing' at the end of a given string (length should be at least 3). If the given string already ends with 'ing' then add'ly' instead if the string length of the given string is less than 3, leave itunchanged.\n",
    "\n",
    "def add_string(str1):\n",
    "  length = len(str1)\n",
    "\n",
    "  if length > 2:\n",
    "    if str1[-3:] == 'ing':\n",
    "      str1 += 'ly'\n",
    "    else:\n",
    "      str1 += 'ing'\n",
    "\n",
    "  return str1\n",
    "print(add_string('ab'))\n",
    "print(add_string('abc'))\n",
    "print(add_string('string'))"
   ]
  },
  {
   "cell_type": "code",
   "execution_count": 27,
   "id": "0e406e5f",
   "metadata": {},
   "outputs": [
    {
     "name": "stdout",
     "output_type": "stream",
     "text": [
      "The lyrics is good!\n",
      "The lyrics is poor!\n"
     ]
    }
   ],
   "source": [
    "# Q18 = Write a Python program to find the first appearance of the substring'not' and 'poor' from a given string, if 'not' follows the 'poor', replace thewhole 'not'...'poor' substring with 'good'. Return the resulting string.\n",
    "\n",
    "def not_poor(str1):\n",
    "  snot = str1.find('not')\n",
    "  spoor = str1.find('poor')\n",
    "  \n",
    "\n",
    "  if spoor > snot and snot>0 and spoor>0:\n",
    "    str1 = str1.replace(str1[snot:(spoor+4)], 'good')\n",
    "    return str1\n",
    "  else:\n",
    "    return str1\n",
    "print(not_poor('The lyrics is not that poor!'))\n",
    "print(not_poor('The lyrics is poor!'))"
   ]
  },
  {
   "cell_type": "code",
   "execution_count": 30,
   "id": "bf594ffd",
   "metadata": {},
   "outputs": [
    {
     "name": "stdout",
     "output_type": "stream",
     "text": [
      "\n",
      "Longest word:  Exercises\n",
      "Length of the longest word:  9\n"
     ]
    }
   ],
   "source": [
    "# Q19 = Write a Python function that takes a list of words and returns the length of the longest one.\n",
    "\n",
    "def find_longest_word(words_list):\n",
    "    word_len = []\n",
    "    for n in words_list:\n",
    "        word_len.append((len(n), n))\n",
    "    word_len.sort()\n",
    "    return word_len[-1][0], word_len[-1][1]\n",
    "result = find_longest_word([\"PHP\", \"Exercises\", \"Backend\"])\n",
    "print(\"\\nLongest word: \",result[1])\n",
    "print(\"Length of the longest word: \",result[0])"
   ]
  },
  {
   "cell_type": "code",
   "execution_count": 34,
   "id": "c2b98416",
   "metadata": {},
   "outputs": [
    {
     "name": "stdout",
     "output_type": "stream",
     "text": [
      "dcba\n",
      "python\n",
      "4321\n"
     ]
    }
   ],
   "source": [
    "# Q20 = Write a Python function to reverses a string if its length is a multiple of 4.\n",
    "\n",
    "def reverse_string(str1):\n",
    "    if len(str1) % 4 == 0:\n",
    "       return ''.join(reversed(str1))\n",
    "    return str1\n",
    "\n",
    "print(reverse_string('abcd'))\n",
    "print(reverse_string('python'))\n",
    "print(reverse_string('1234'))"
   ]
  },
  {
   "cell_type": "code",
   "execution_count": 38,
   "id": "cf4f6f99",
   "metadata": {},
   "outputs": [
    {
     "name": "stdout",
     "output_type": "stream",
     "text": [
      "w3ce\n",
      "w3w3\n",
      "\n"
     ]
    }
   ],
   "source": [
    "# Q21 = Write a Python program to get a string made of the first 2 and the last 2 chars from a given a string. If the string length is less than 2, return instead of the empty string.\n",
    "\n",
    "def string_both_ends(str):\n",
    "  if len(str) < 2:\n",
    "    return ''\n",
    "\n",
    "  return str[0:2] + str[-2:]\n",
    "\n",
    "print(string_both_ends('w3resource'))\n",
    "print(string_both_ends('w3'))\n",
    "print(string_both_ends('w'))"
   ]
  },
  {
   "cell_type": "code",
   "execution_count": 43,
   "id": "39f3845b",
   "metadata": {},
   "outputs": [
    {
     "name": "stdout",
     "output_type": "stream",
     "text": [
      "[[Python]]\n",
      "{{PHP}}\n",
      "<<HTML>>\n"
     ]
    }
   ],
   "source": [
    "# Q22 = Write a Python function to insert a string in the middle of a string.\n",
    "\n",
    "def insert_sting_middle(str, word):\n",
    "    return str[:2] + word + str[2:]\n",
    "\n",
    "print(insert_sting_middle('[[]]', 'Python'))\n",
    "print(insert_sting_middle('{{}}', 'PHP'))\n",
    "print(insert_sting_middle('<<>>', 'HTML'))"
   ]
  }
 ],
 "metadata": {
  "kernelspec": {
   "display_name": "Python 3 (ipykernel)",
   "language": "python",
   "name": "python3"
  },
  "language_info": {
   "codemirror_mode": {
    "name": "ipython",
    "version": 3
   },
   "file_extension": ".py",
   "mimetype": "text/x-python",
   "name": "python",
   "nbconvert_exporter": "python",
   "pygments_lexer": "ipython3",
   "version": "3.9.12"
  }
 },
 "nbformat": 4,
 "nbformat_minor": 5
}
